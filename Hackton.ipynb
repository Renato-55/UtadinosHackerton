{
  "nbformat": 4,
  "nbformat_minor": 0,
  "metadata": {
    "colab": {
      "name": "Hackton.ipynb",
      "provenance": [],
      "collapsed_sections": [],
      "include_colab_link": true
    },
    "kernelspec": {
      "name": "python3",
      "display_name": "Python 3"
    },
    "language_info": {
      "name": "python"
    }
  },
  "cells": [
    {
      "cell_type": "markdown",
      "metadata": {
        "id": "view-in-github",
        "colab_type": "text"
      },
      "source": [
        "<a href=\"https://colab.research.google.com/github/Renato-55/UtadinosHackerton/blob/main/Hackton.ipynb\" target=\"_parent\"><img src=\"https://colab.research.google.com/assets/colab-badge.svg\" alt=\"Open In Colab\"/></a>"
      ]
    },
    {
      "cell_type": "code",
      "source": [
        "!git clone https://github.com/Renato-55/UtadinosHackerton"
      ],
      "metadata": {
        "id": "xo-cujJLpXam"
      },
      "execution_count": null,
      "outputs": []
    },
    {
      "cell_type": "code",
      "source": [
        "!pip install tensorflow"
      ],
      "metadata": {
        "id": "5LyRws9OpvWE"
      },
      "execution_count": null,
      "outputs": []
    },
    {
      "cell_type": "code",
      "execution_count": 8,
      "metadata": {
        "id": "k4qM598dopvQ"
      },
      "outputs": [],
      "source": [
        "import numpy as np\n",
        "import pandas as pd\n",
        "import seaborn as sns\n",
        "import matplotlib.pyplot as plt\n",
        "import tensorflow as tf\n",
        "\n",
        "#path to data\n",
        "#path = \"/content/UtadinosHackerton/data_cy.csv\"\n",
        "path = \"/content/UtadinosHackerton/CO2 Emissions_Canada.csv\"\n",
        "#path = \"C://Users//renat//Desktop//Hackton//Ficheiros//data_cy.csv\"\n",
        "#path = \"C://Users//renat//Desktop//Hackton//Ficheiros//data_pt_esp.csv\"\n",
        "\n",
        "#Load Data\n",
        "df = pd.read_csv(path)"
      ]
    },
    {
      "cell_type": "code",
      "source": [
        "#data cleaning\n",
        "from sklearn.utils import shuffle\n",
        "df = shuffle(df)\n",
        "#target\n",
        "y_features = [\"CO2 Emissions(g/km)\"]\n",
        "\n",
        "y = df[y_features]"
      ],
      "metadata": {
        "id": "2ZSJpg0wotGs"
      },
      "execution_count": 9,
      "outputs": []
    },
    {
      "cell_type": "code",
      "source": [
        "null_val = df.isnull().sum().sum()\n",
        "\n",
        "if null_val == 0:\n",
        "  print(\"No null values\")\n",
        "else:\n",
        "  print(f\"Null values: {null_val}\")\n",
        "\n",
        "df.fillna('0',inplace=True)\n",
        "\n",
        "data_num_features = df.select_dtypes(include=np.number)\n",
        "\n",
        "data_num_features = data_num_features.drop(y_features,axis = 1)"
      ],
      "metadata": {
        "id": "fglREFshrGl4"
      },
      "execution_count": null,
      "outputs": []
    },
    {
      "cell_type": "code",
      "source": [
        "from tensorflow import keras\n",
        "from tensorflow.keras import layers\n",
        "\n",
        "def build_model():\n",
        "  model = keras.Sequential([\n",
        "      layers.Dense(data_num_features.shape[0], activation=\"relu\"),\n",
        "      layers.Dense(64, activation=\"relu\"),\n",
        "      layers.Dense(64, activation=\"relu\"),\n",
        "      layers.Dense(1)\n",
        "  ])\n",
        "  model.compile(optimizer=\"rmsprop\", loss=\"mse\", metrics=[\"mae\"])\n",
        "  return model"
      ],
      "metadata": {
        "id": "Vh0jVIp0tByp"
      },
      "execution_count": 11,
      "outputs": []
    },
    {
      "cell_type": "code",
      "source": [
        "import numpy as np\n",
        "k = 5 \n",
        "num_val_samples = len(data_num_features) // k \n",
        "num_epochs = 40\n",
        "\n",
        "Fold = int(y.shape[0]/k)\n",
        "\n",
        "#divide a data em train_Data e eval_data\n",
        "X_train = data_num_features[:Fold*(k-1)-1]\n",
        "y_train = y[:Fold*(k-1)-1]\n",
        "X_eval = data_num_features[Fold*(k-1)+1:Fold*(k)]\n",
        "y_eval = y[Fold*(k-1)+1:Fold*(k)]\n",
        "\n",
        "model = build_model()\n",
        "\n",
        "callbacks = [\n",
        "    keras.callbacks.ModelCheckpoint(\"callback_best_co2_model.keras\",\n",
        "                                    save_best_only=True, monitor='loss')\n",
        "]\n",
        "\n",
        "model.fit(X_train, y_train, epochs=num_epochs, batch_size=41, callbacks=callbacks)\n",
        "\n",
        "model = keras.models.load_model(\"callback_best_co2_model.keras\")"
      ],
      "metadata": {
        "id": "2AV9X6Lw8liR"
      },
      "execution_count": null,
      "outputs": []
    },
    {
      "cell_type": "code",
      "source": [
        "val_mse, val_mae = model.evaluate(X_eval, y_eval)"
      ],
      "metadata": {
        "id": "TdbjcckxMw1P"
      },
      "execution_count": null,
      "outputs": []
    },
    {
      "cell_type": "code",
      "source": [
        "print(f\"Fold: {Fold}\")\n",
        "print(f\"y shape: {y.shape[0]}\")\n",
        "print(f\"k : {y.shape[0]/Fold}\")\n",
        "print(f\"k train end : {Fold*(k-1)-1}\")\n",
        "print(f\"k eval init : {Fold*(k-1)+1}\")\n",
        "print(f\"k eval end : {Fold*(k)}\")\n"
      ],
      "metadata": {
        "id": "njBouLQ3-SfX"
      },
      "execution_count": null,
      "outputs": []
    },
    {
      "cell_type": "code",
      "source": [
        "print(f\"Mae {val_mae}\")\n",
        "print(f\"Mean {y_eval.mean()}\")\n",
        "print(f\"Error {val_mae/y_eval.mean()}\")\n",
        "print(f\"Accuracy {100 - val_mae/y_eval.mean()}\")\n"
      ],
      "metadata": {
        "id": "25Vuom3qvaU_"
      },
      "execution_count": null,
      "outputs": []
    },
    {
      "cell_type": "code",
      "source": [
        "print(f\"Numeric data shape : {data_num_features.shape}\")\n",
        "print(f\"All data shape: {df.shape}\")\n",
        "\n",
        "for x in data_num_features:\n",
        "  print(x)"
      ],
      "metadata": {
        "id": "v82H-9Zn0dAY"
      },
      "execution_count": null,
      "outputs": []
    },
    {
      "cell_type": "code",
      "source": [
        "print(model.predict(X_eval.tail()))\n",
        "\n",
        "print(y.tail())"
      ],
      "metadata": {
        "id": "CxT1Vz5bN6RA"
      },
      "execution_count": null,
      "outputs": []
    },
    {
      "cell_type": "code",
      "source": [
        "tf.saved_model.save(model,\"/content/savedModel\")"
      ],
      "metadata": {
        "id": "nL44_SAJWgg3"
      },
      "execution_count": null,
      "outputs": []
    },
    {
      "cell_type": "code",
      "source": [
        "from sklearn.linear_model import LinearRegression\n",
        "from sklearn.metrics import r2_score\n",
        "from sklearn.model_selection import train_test_split\n",
        "from sklearn.preprocessing import (StandardScaler, \n",
        "                                   PolynomialFeatures)\n",
        "\n",
        "mlr = LinearRegression()\n",
        "\n",
        "mlr.fit(X_train, y_train)\n",
        "\n",
        "val_mse_linear, val_mae_linear = model.evaluate(X_eval, y_eval)"
      ],
      "metadata": {
        "id": "6_4gJeCfFA0f"
      },
      "execution_count": null,
      "outputs": []
    },
    {
      "cell_type": "code",
      "source": [
        "print(f\"Mae {val_mae_linear}\")\n",
        "print(f\"Mean {y_eval.mean()}\")\n",
        "print(f\"Error {val_mae_linear/y_eval.mean()}\")\n",
        "print(f\"Accuracy {100 - val_mae_linear/y_eval.mean()}\")"
      ],
      "metadata": {
        "id": "1uwzWLlfGD-D"
      },
      "execution_count": null,
      "outputs": []
    },
    {
      "cell_type": "code",
      "source": [
        "from tensorflow import keras\n",
        "model = keras.models.load_model(\"callback_best_co2_model.keras\")\n",
        "\n",
        "mean_emission = np.mean(y)\n",
        "\n",
        "class Carro:\n",
        "\n",
        "  def __init__(self):\n",
        "    self.marca = \"Renault\"\n",
        "    self.modelo = \"Megane\"\n",
        "    self.tamMotor = 2\n",
        "    self.numCilindros = 4\n",
        "    self.tipoCombustivel = \"Gasoleo\"\n",
        "    self.mediaMotorCity = 7\n",
        "    self.mediaMotorHwy = 6\n",
        "    self.mediaMotorComb = self.mediaMotorCity*0.55 + self.mediaMotorCity*0.45\n",
        "    self.mediaMotorCombMpg = self.mediaMotorComb*6.534\n",
        "    #valor target default\n",
        "  \n",
        "  def lerDados(self):\n",
        "    self.marca = input(\"Type the car Make: \")\n",
        "    self.modelo = input(\"Type the car Model: \")\n",
        "    self.tamMotor = int(input(\"Type the motor size: \"))\n",
        "    self.numCilindros = int(input(\"Type the num of cilinders: \"))\n",
        "    self.tipoCombustivel = input(\"Type the type of fuel (X - Gasoline) (Z - diesel)(D- eletric)\")\n",
        "    self.mediaMotorCity=float(input(\"Type the avarege consumption of fuel driving in the city per 100km :\"))\n",
        "    self.mediaMotorHwy=float(input(\"Type the avarege consumption of fuel driving in the highway per 100km :\"))\n",
        "    self.mediaMotorComb = self.mediaMotorCity*0.55 + self.mediaMotorCity*0.45\n",
        "    self.mediaMotorCombMpg = self.mediaMotorComb*6.534\n",
        "  \n",
        "  def predict(self,model):  \n",
        "    #one = np.array( [  self.numCilindros,  self.mediaMotorCity,self.mediaMotorHwy,\n",
        "    #                   self.mediaMotorComb,self.mediaMotorCombMpg, self.consumoCombinado])\n",
        "\n",
        "    one = tf.constant( [[  self.tamMotor, self.numCilindros,  self.mediaMotorCity,self.mediaMotorHwy,\n",
        "                       self.mediaMotorComb,self.mediaMotorCombMpg]])\n",
        "    \n",
        "    predicted_emission = model.predict(one)\n",
        "    print(f\"Is Expected to the car {self.marca} has an co2 (g/km) emission of {predicted_emission}\\n\")\n",
        "    \n",
        "    \n",
        "    dif = predicted_emission- y.mean()[0] \n",
        "    if(dif > 0):\n",
        "      print(f\"Compared to the known models, your car is {abs(dif)} c02 (g/km) horse.\\n\")\n",
        "    elif(dif <= 0):\n",
        "      print(f\"Compared to the known models, your car is {abs(dif)} c02 (g/km) better.\\n\")\n",
        "    \n",
        "    \n",
        "\n",
        "c = Carro()\n",
        "#Carro.lerDados(c)\n",
        "print(\"Neural Network Model\")\n",
        "Carro.predict(c,model)\n",
        "print(\"\\nLinear Regression Model\")\n",
        "Carro.predict(c,mlr)\n",
        "\n"
      ],
      "metadata": {
        "id": "TZVsWwoRhFSb"
      },
      "execution_count": null,
      "outputs": []
    }
  ]
}