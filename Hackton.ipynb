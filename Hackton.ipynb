{
  "nbformat": 4,
  "nbformat_minor": 0,
  "metadata": {
    "colab": {
      "name": "Hackton.ipynb",
      "provenance": [],
      "collapsed_sections": [],
      "include_colab_link": true
    },
    "kernelspec": {
      "name": "python3",
      "display_name": "Python 3"
    },
    "language_info": {
      "name": "python"
    }
  },
  "cells": [
    {
      "cell_type": "markdown",
      "metadata": {
        "id": "view-in-github",
        "colab_type": "text"
      },
      "source": [
        "<a href=\"https://colab.research.google.com/github/Renato-55/UtadinosHackerton/blob/main/Hackton.ipynb\" target=\"_parent\"><img src=\"https://colab.research.google.com/assets/colab-badge.svg\" alt=\"Open In Colab\"/></a>"
      ]
    },
    {
      "cell_type": "code",
      "source": [
        "!git clone https://github.com/Renato-55/UtadinosHackerton"
      ],
      "metadata": {
        "colab": {
          "base_uri": "https://localhost:8080/"
        },
        "id": "xo-cujJLpXam",
        "outputId": "d74e4011-ee2e-4dbd-b5d7-743ca9eb1f3c"
      },
      "execution_count": 1,
      "outputs": [
        {
          "output_type": "stream",
          "name": "stdout",
          "text": [
            "fatal: destination path 'UtadinosHackerton' already exists and is not an empty directory.\n"
          ]
        }
      ]
    },
    {
      "cell_type": "code",
      "source": [
        "!pip install tensorflow"
      ],
      "metadata": {
        "colab": {
          "base_uri": "https://localhost:8080/"
        },
        "id": "5LyRws9OpvWE",
        "outputId": "548c9046-8a4c-4344-cc90-f5272dd2e5d5"
      },
      "execution_count": 39,
      "outputs": [
        {
          "output_type": "stream",
          "name": "stdout",
          "text": [
            "Requirement already satisfied: tensorflow in /usr/local/lib/python3.7/dist-packages (2.8.0)\n",
            "Requirement already satisfied: google-pasta>=0.1.1 in /usr/local/lib/python3.7/dist-packages (from tensorflow) (0.2.0)\n",
            "Requirement already satisfied: numpy>=1.20 in /usr/local/lib/python3.7/dist-packages (from tensorflow) (1.21.6)\n",
            "Requirement already satisfied: six>=1.12.0 in /usr/local/lib/python3.7/dist-packages (from tensorflow) (1.15.0)\n",
            "Requirement already satisfied: keras<2.9,>=2.8.0rc0 in /usr/local/lib/python3.7/dist-packages (from tensorflow) (2.8.0)\n",
            "Requirement already satisfied: astunparse>=1.6.0 in /usr/local/lib/python3.7/dist-packages (from tensorflow) (1.6.3)\n",
            "Requirement already satisfied: flatbuffers>=1.12 in /usr/local/lib/python3.7/dist-packages (from tensorflow) (2.0)\n",
            "Requirement already satisfied: tf-estimator-nightly==2.8.0.dev2021122109 in /usr/local/lib/python3.7/dist-packages (from tensorflow) (2.8.0.dev2021122109)\n",
            "Requirement already satisfied: libclang>=9.0.1 in /usr/local/lib/python3.7/dist-packages (from tensorflow) (14.0.1)\n",
            "Requirement already satisfied: gast>=0.2.1 in /usr/local/lib/python3.7/dist-packages (from tensorflow) (0.5.3)\n",
            "Requirement already satisfied: h5py>=2.9.0 in /usr/local/lib/python3.7/dist-packages (from tensorflow) (3.1.0)\n",
            "Requirement already satisfied: termcolor>=1.1.0 in /usr/local/lib/python3.7/dist-packages (from tensorflow) (1.1.0)\n",
            "Requirement already satisfied: tensorboard<2.9,>=2.8 in /usr/local/lib/python3.7/dist-packages (from tensorflow) (2.8.0)\n",
            "Requirement already satisfied: grpcio<2.0,>=1.24.3 in /usr/local/lib/python3.7/dist-packages (from tensorflow) (1.44.0)\n",
            "Requirement already satisfied: absl-py>=0.4.0 in /usr/local/lib/python3.7/dist-packages (from tensorflow) (1.0.0)\n",
            "Requirement already satisfied: tensorflow-io-gcs-filesystem>=0.23.1 in /usr/local/lib/python3.7/dist-packages (from tensorflow) (0.25.0)\n",
            "Requirement already satisfied: opt-einsum>=2.3.2 in /usr/local/lib/python3.7/dist-packages (from tensorflow) (3.3.0)\n",
            "Requirement already satisfied: protobuf>=3.9.2 in /usr/local/lib/python3.7/dist-packages (from tensorflow) (3.17.3)\n",
            "Requirement already satisfied: setuptools in /usr/local/lib/python3.7/dist-packages (from tensorflow) (57.4.0)\n",
            "Requirement already satisfied: keras-preprocessing>=1.1.1 in /usr/local/lib/python3.7/dist-packages (from tensorflow) (1.1.2)\n",
            "Requirement already satisfied: typing-extensions>=3.6.6 in /usr/local/lib/python3.7/dist-packages (from tensorflow) (4.2.0)\n",
            "Requirement already satisfied: wrapt>=1.11.0 in /usr/local/lib/python3.7/dist-packages (from tensorflow) (1.14.0)\n",
            "Requirement already satisfied: wheel<1.0,>=0.23.0 in /usr/local/lib/python3.7/dist-packages (from astunparse>=1.6.0->tensorflow) (0.37.1)\n",
            "Requirement already satisfied: cached-property in /usr/local/lib/python3.7/dist-packages (from h5py>=2.9.0->tensorflow) (1.5.2)\n",
            "Requirement already satisfied: requests<3,>=2.21.0 in /usr/local/lib/python3.7/dist-packages (from tensorboard<2.9,>=2.8->tensorflow) (2.23.0)\n",
            "Requirement already satisfied: markdown>=2.6.8 in /usr/local/lib/python3.7/dist-packages (from tensorboard<2.9,>=2.8->tensorflow) (3.3.6)\n",
            "Requirement already satisfied: tensorboard-plugin-wit>=1.6.0 in /usr/local/lib/python3.7/dist-packages (from tensorboard<2.9,>=2.8->tensorflow) (1.8.1)\n",
            "Requirement already satisfied: google-auth<3,>=1.6.3 in /usr/local/lib/python3.7/dist-packages (from tensorboard<2.9,>=2.8->tensorflow) (1.35.0)\n",
            "Requirement already satisfied: tensorboard-data-server<0.7.0,>=0.6.0 in /usr/local/lib/python3.7/dist-packages (from tensorboard<2.9,>=2.8->tensorflow) (0.6.1)\n",
            "Requirement already satisfied: google-auth-oauthlib<0.5,>=0.4.1 in /usr/local/lib/python3.7/dist-packages (from tensorboard<2.9,>=2.8->tensorflow) (0.4.6)\n",
            "Requirement already satisfied: werkzeug>=0.11.15 in /usr/local/lib/python3.7/dist-packages (from tensorboard<2.9,>=2.8->tensorflow) (1.0.1)\n",
            "Requirement already satisfied: pyasn1-modules>=0.2.1 in /usr/local/lib/python3.7/dist-packages (from google-auth<3,>=1.6.3->tensorboard<2.9,>=2.8->tensorflow) (0.2.8)\n",
            "Requirement already satisfied: rsa<5,>=3.1.4 in /usr/local/lib/python3.7/dist-packages (from google-auth<3,>=1.6.3->tensorboard<2.9,>=2.8->tensorflow) (4.8)\n",
            "Requirement already satisfied: cachetools<5.0,>=2.0.0 in /usr/local/lib/python3.7/dist-packages (from google-auth<3,>=1.6.3->tensorboard<2.9,>=2.8->tensorflow) (4.2.4)\n",
            "Requirement already satisfied: requests-oauthlib>=0.7.0 in /usr/local/lib/python3.7/dist-packages (from google-auth-oauthlib<0.5,>=0.4.1->tensorboard<2.9,>=2.8->tensorflow) (1.3.1)\n",
            "Requirement already satisfied: importlib-metadata>=4.4 in /usr/local/lib/python3.7/dist-packages (from markdown>=2.6.8->tensorboard<2.9,>=2.8->tensorflow) (4.11.3)\n",
            "Requirement already satisfied: zipp>=0.5 in /usr/local/lib/python3.7/dist-packages (from importlib-metadata>=4.4->markdown>=2.6.8->tensorboard<2.9,>=2.8->tensorflow) (3.8.0)\n",
            "Requirement already satisfied: pyasn1<0.5.0,>=0.4.6 in /usr/local/lib/python3.7/dist-packages (from pyasn1-modules>=0.2.1->google-auth<3,>=1.6.3->tensorboard<2.9,>=2.8->tensorflow) (0.4.8)\n",
            "Requirement already satisfied: idna<3,>=2.5 in /usr/local/lib/python3.7/dist-packages (from requests<3,>=2.21.0->tensorboard<2.9,>=2.8->tensorflow) (2.10)\n",
            "Requirement already satisfied: urllib3!=1.25.0,!=1.25.1,<1.26,>=1.21.1 in /usr/local/lib/python3.7/dist-packages (from requests<3,>=2.21.0->tensorboard<2.9,>=2.8->tensorflow) (1.24.3)\n",
            "Requirement already satisfied: chardet<4,>=3.0.2 in /usr/local/lib/python3.7/dist-packages (from requests<3,>=2.21.0->tensorboard<2.9,>=2.8->tensorflow) (3.0.4)\n",
            "Requirement already satisfied: certifi>=2017.4.17 in /usr/local/lib/python3.7/dist-packages (from requests<3,>=2.21.0->tensorboard<2.9,>=2.8->tensorflow) (2021.10.8)\n",
            "Requirement already satisfied: oauthlib>=3.0.0 in /usr/local/lib/python3.7/dist-packages (from requests-oauthlib>=0.7.0->google-auth-oauthlib<0.5,>=0.4.1->tensorboard<2.9,>=2.8->tensorflow) (3.2.0)\n"
          ]
        }
      ]
    },
    {
      "cell_type": "code",
      "execution_count": 3,
      "metadata": {
        "id": "k4qM598dopvQ"
      },
      "outputs": [],
      "source": [
        "import numpy as np\n",
        "import pandas as pd\n",
        "import seaborn as sns\n",
        "import matplotlib.pyplot as plt\n",
        "import tensorflow as tf\n",
        "\n",
        "#path to data\n",
        "#path = \"/content/UtadinosHackerton/data_cy.csv\"\n",
        "path = \"/content/UtadinosHackerton/CO2 Emissions_Canada.csv\"\n",
        "#path = \"C://Users//renat//Desktop//Hackton//Ficheiros//data_cy.csv\"\n",
        "#path = \"C://Users//renat//Desktop//Hackton//Ficheiros//data_pt_esp.csv\"\n",
        "\n",
        "#Load Data\n",
        "df = pd.read_csv(path)"
      ]
    },
    {
      "cell_type": "code",
      "source": [
        "#data cleaning\n",
        "from sklearn.utils import shuffle\n",
        "df = shuffle(df)\n",
        "#target\n",
        "y_features = [\"CO2 Emissions(g/km)\"]\n",
        "\n",
        "y = df[y_features]"
      ],
      "metadata": {
        "id": "2ZSJpg0wotGs"
      },
      "execution_count": 4,
      "outputs": []
    },
    {
      "cell_type": "code",
      "source": [
        "null_val = df.isnull().sum().sum()\n",
        "\n",
        "if null_val == 0:\n",
        "  print(\"No null values\")\n",
        "else:\n",
        "  print(f\"Null values: {null_val}\")\n",
        "\n",
        "df.fillna('0',inplace=True)\n",
        "\n",
        "data_num_features = df.select_dtypes(include=np.number)\n",
        "\n",
        "data_num_features = data_num_features.drop(y_features,axis = 1)"
      ],
      "metadata": {
        "id": "fglREFshrGl4"
      },
      "execution_count": null,
      "outputs": []
    },
    {
      "cell_type": "code",
      "source": [
        "from tensorflow import keras\n",
        "from tensorflow.keras import layers\n",
        "\n",
        "def build_model():\n",
        "  model = keras.Sequential([\n",
        "      layers.Dense(data_num_features.shape[0], activation=\"relu\"),\n",
        "      layers.Dense(64, activation=\"relu\"),\n",
        "      layers.Dense(64, activation=\"relu\"),\n",
        "      layers.Dense(1)\n",
        "  ])\n",
        "  model.compile(optimizer=\"rmsprop\", loss=\"mse\", metrics=[\"mae\"])\n",
        "  return model"
      ],
      "metadata": {
        "id": "Vh0jVIp0tByp"
      },
      "execution_count": 6,
      "outputs": []
    },
    {
      "cell_type": "code",
      "source": [
        "import numpy as np\n",
        "k = 5 \n",
        "num_val_samples = len(data_num_features) // k \n",
        "num_epochs = 40\n",
        "\n",
        "Fold = int(y.shape[0]/k)\n",
        "\n",
        "#divide a data em train_Data e eval_data\n",
        "X_train = data_num_features[:Fold*(k-1)-1]\n",
        "y_train = y[:Fold*(k-1)-1]\n",
        "X_eval = data_num_features[Fold*(k-1)+1:Fold*(k)]\n",
        "y_eval = y[Fold*(k-1)+1:Fold*(k)]\n",
        "\n",
        "model = build_model()\n",
        "\n",
        "callbacks = [\n",
        "    keras.callbacks.ModelCheckpoint(\"callback_best_co2_model.keras\",\n",
        "                                    save_best_only=True, monitor='loss')\n",
        "]\n",
        "\n",
        "model.fit(X_train, y_train, epochs=num_epochs, batch_size=41, callbacks=callbacks)\n",
        "\n",
        "model = keras.models.load_model(\"callback_best_co2_model.keras\")"
      ],
      "metadata": {
        "id": "2AV9X6Lw8liR"
      },
      "execution_count": null,
      "outputs": []
    },
    {
      "cell_type": "code",
      "source": [
        "val_mse, val_mae = model.evaluate(X_eval, y_eval)"
      ],
      "metadata": {
        "id": "TdbjcckxMw1P"
      },
      "execution_count": null,
      "outputs": []
    },
    {
      "cell_type": "code",
      "source": [
        "print(f\"Fold: {Fold}\")\n",
        "print(f\"y shape: {y.shape[0]}\")\n",
        "print(f\"k : {y.shape[0]/Fold}\")\n",
        "print(f\"k train end : {Fold*(k-1)-1}\")\n",
        "print(f\"k eval init : {Fold*(k-1)+1}\")\n",
        "print(f\"k eval end : {Fold*(k)}\")\n"
      ],
      "metadata": {
        "id": "njBouLQ3-SfX"
      },
      "execution_count": null,
      "outputs": []
    },
    {
      "cell_type": "code",
      "source": [
        "print(f\"Mae {val_mae}\")\n",
        "print(f\"Mean {y_eval.mean()}\")\n",
        "print(f\"Error {val_mae/y_eval.mean()}\")\n",
        "print(f\"Accuracy {100 - val_mae/y_eval.mean()}\")\n"
      ],
      "metadata": {
        "id": "25Vuom3qvaU_"
      },
      "execution_count": null,
      "outputs": []
    },
    {
      "cell_type": "code",
      "source": [
        "print(f\"Numeric data shape : {data_num_features.shape}\")\n",
        "print(f\"All data shape: {df.shape}\")\n",
        "\n",
        "for x in data_num_features:\n",
        "  print(x)"
      ],
      "metadata": {
        "colab": {
          "base_uri": "https://localhost:8080/"
        },
        "id": "v82H-9Zn0dAY",
        "outputId": "aa8964fd-a965-4355-95b4-0bca3302d6d5"
      },
      "execution_count": 85,
      "outputs": [
        {
          "output_type": "stream",
          "name": "stdout",
          "text": [
            "Numeric data shape : (7385, 6)\n",
            "All data shape: (7385, 12)\n",
            "Engine Size(L)\n",
            "Cylinders\n",
            "Fuel Consumption City (L/100 km)\n",
            "Fuel Consumption Hwy (L/100 km)\n",
            "Fuel Consumption Comb (L/100 km)\n",
            "Fuel Consumption Comb (mpg)\n"
          ]
        }
      ]
    },
    {
      "cell_type": "code",
      "source": [
        "print(model.predict(X_eval.tail()))\n",
        "\n",
        "print(y.tail())"
      ],
      "metadata": {
        "id": "CxT1Vz5bN6RA"
      },
      "execution_count": null,
      "outputs": []
    },
    {
      "cell_type": "code",
      "source": [
        "tf.saved_model.save(model,\"/content/savedModel\")"
      ],
      "metadata": {
        "id": "nL44_SAJWgg3",
        "outputId": "f27695b3-931b-4331-f0e3-17d31fbf837f",
        "colab": {
          "base_uri": "https://localhost:8080/"
        }
      },
      "execution_count": 37,
      "outputs": [
        {
          "output_type": "stream",
          "name": "stdout",
          "text": [
            "INFO:tensorflow:Assets written to: /content/savedModel/assets\n"
          ]
        }
      ]
    },
    {
      "cell_type": "code",
      "source": [
        "tf.__version__"
      ],
      "metadata": {
        "id": "5meB5hNAXsC1",
        "outputId": "6a65949e-2a41-4d94-ef10-ae0882fea8f4",
        "colab": {
          "base_uri": "https://localhost:8080/",
          "height": 36
        }
      },
      "execution_count": 40,
      "outputs": [
        {
          "output_type": "execute_result",
          "data": {
            "text/plain": [
              "'2.8.0'"
            ],
            "application/vnd.google.colaboratory.intrinsic+json": {
              "type": "string"
            }
          },
          "metadata": {},
          "execution_count": 40
        }
      ]
    },
    {
      "cell_type": "code",
      "source": [
        "model = keras.models.load_model(\"callback_best_co2_model.keras\")\n",
        "\n",
        "mean_emission = np.mean(y)\n",
        "\n",
        "class Carro:\n",
        "\n",
        "  def __init__(self):\n",
        "    self.marca = \"Renault\"\n",
        "    self.modelo = \"Megane\"\n",
        "    self.tamMotor = 2\n",
        "    self.numCilindros = 4\n",
        "    self.tipoCombustivel = \"Gasoleo\"\n",
        "    self.mediaMotorCity = 7\n",
        "    self.mediaMotorHwy = 6\n",
        "    self.mediaMotorComb = self.mediaMotorCity*0.55 + self.mediaMotorCity*0.45\n",
        "    self.mediaMotorCombMpg = self.mediaMotorComb*6.534\n",
        "    #valor target default\n",
        "  \n",
        "  def lerDados(self):\n",
        "    self.marca = input(\"Type the car Make: \")\n",
        "    self.modelo = input(\"Type the car Model: \")\n",
        "    self.tamMotor = int(input(\"Type the motor size: \"))\n",
        "    self.numCilindros = int(input(\"Type the num of cilinders: \"))\n",
        "    self.tipoCombustivel = input(\"Type the type of fuel (X - Gasoline) (Z - diesel)(D- eletric)\")\n",
        "    self.mediaMotorCity=float(input(\"Type the avarege consumption of fuel driving in the city per 100km :\"))\n",
        "    self.mediaMotorHwy=float(input(\"Type the avarege consumption of fuel driving in the highway per 100km :\"))\n",
        "    self.mediaMotorComb = self.mediaMotorCity*0.55 + self.mediaMotorCity*0.45\n",
        "    self.mediaMotorCombMpg = self.mediaMotorComb*6.534\n",
        "  \n",
        "  def predict(self,model):\n",
        "    \n",
        "    #one = np.array( [  self.numCilindros,  self.mediaMotorCity,self.mediaMotorHwy,\n",
        "    #                   self.mediaMotorComb,self.mediaMotorCombMpg, self.consumoCombinado])\n",
        "\n",
        "    one = tf.constant( [[  self.tamMotor, self.numCilindros,  self.mediaMotorCity,self.mediaMotorHwy,\n",
        "                       self.mediaMotorComb,self.mediaMotorCombMpg]])\n",
        "    \n",
        "    predicted_emission = model.predict(one)\n",
        "    print(f\"Is Expected to the car {self.marca} has an co2 (g/km) emission of {predicted_emission}\\n\")\n",
        "    \n",
        "    \n",
        "    dif = predicted_emission- y.mean()[0] \n",
        "    if(dif > 0):\n",
        "      print(f\"Compared to the known models, your car is {abs(dif)} c02 (g/km) horse.\\n\")\n",
        "    elif(dif <= 0):\n",
        "      print(f\"Compared to the known models, your car is {abs(dif)} c02 (g/km) better.\\n\")\n",
        "    \n",
        "    \n",
        "\n",
        "c = Carro()\n",
        "#Carro.lerDados(c)\n",
        "Carro.predict(c,model)"
      ],
      "metadata": {
        "id": "TZVsWwoRhFSb",
        "outputId": "db8baaee-0d1f-4c1b-c7d0-44d109fe3771",
        "colab": {
          "base_uri": "https://localhost:8080/"
        }
      },
      "execution_count": 105,
      "outputs": [
        {
          "output_type": "stream",
          "name": "stdout",
          "text": [
            "Is Expected to the car Renault has an co2 (g/km) emission of [[158.2455]]\n",
            "\n",
            "Compared to the known models, your car is [[92.3392]] c02 (g/km) better.\n",
            "\n"
          ]
        }
      ]
    },
    {
      "cell_type": "code",
      "source": [
        "print(c.consumoCombinado)"
      ],
      "metadata": {
        "id": "CQ1wilCEijCs"
      },
      "execution_count": null,
      "outputs": []
    },
    {
      "cell_type": "code",
      "source": [
        "\n",
        "mean_emission"
      ],
      "metadata": {
        "id": "ChOOyNYusjj9",
        "outputId": "a49054cd-f067-4dcd-c2c5-c24121a1b9a1",
        "colab": {
          "base_uri": "https://localhost:8080/"
        }
      },
      "execution_count": 89,
      "outputs": [
        {
          "output_type": "execute_result",
          "data": {
            "text/plain": [
              "CO2 Emissions(g/km)    250.584699\n",
              "dtype: float64"
            ]
          },
          "metadata": {},
          "execution_count": 89
        }
      ]
    }
  ]
}